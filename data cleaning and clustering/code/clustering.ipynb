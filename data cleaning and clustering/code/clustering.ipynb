{
 "cells": [
  {
   "cell_type": "code",
   "execution_count": 2,
   "id": "a3201172",
   "metadata": {},
   "outputs": [],
   "source": [
    "import pandas as pd"
   ]
  },
  {
   "cell_type": "code",
   "execution_count": 4,
   "id": "165cbd52",
   "metadata": {},
   "outputs": [
    {
     "data": {
      "text/html": [
       "<div>\n",
       "<style scoped>\n",
       "    .dataframe tbody tr th:only-of-type {\n",
       "        vertical-align: middle;\n",
       "    }\n",
       "\n",
       "    .dataframe tbody tr th {\n",
       "        vertical-align: top;\n",
       "    }\n",
       "\n",
       "    .dataframe thead th {\n",
       "        text-align: right;\n",
       "    }\n",
       "</style>\n",
       "<table border=\"1\" class=\"dataframe\">\n",
       "  <thead>\n",
       "    <tr style=\"text-align: right;\">\n",
       "      <th></th>\n",
       "      <th>Country Name</th>\n",
       "      <th>Renewable energy consumption (% of total final energy consumption) - EG.FEC.RNEW.ZS</th>\n",
       "      <th>Annual production-based emissions of carbon dioxide (CO2), measured in million tonnes</th>\n",
       "      <th>Adjusted savings: carbon dioxide damage (% of GNI) - NY.ADJ.DCO2.GN.ZS</th>\n",
       "      <th>Adjusted savings: natural resources depletion (% of GNI) - NY.ADJ.DRES.GN.ZS</th>\n",
       "    </tr>\n",
       "  </thead>\n",
       "  <tbody>\n",
       "    <tr>\n",
       "      <th>0</th>\n",
       "      <td>Angola</td>\n",
       "      <td>56.785500</td>\n",
       "      <td>37.679</td>\n",
       "      <td>1.440151</td>\n",
       "      <td>22.406890</td>\n",
       "    </tr>\n",
       "    <tr>\n",
       "      <th>1</th>\n",
       "      <td>Albania</td>\n",
       "      <td>38.266399</td>\n",
       "      <td>5.403</td>\n",
       "      <td>1.244828</td>\n",
       "      <td>1.007232</td>\n",
       "    </tr>\n",
       "    <tr>\n",
       "      <th>2</th>\n",
       "      <td>United Arab Emirates</td>\n",
       "      <td>0.259200</td>\n",
       "      <td>188.541</td>\n",
       "      <td>2.035783</td>\n",
       "      <td>5.148113</td>\n",
       "    </tr>\n",
       "    <tr>\n",
       "      <th>3</th>\n",
       "      <td>Argentina</td>\n",
       "      <td>10.520800</td>\n",
       "      <td>185.030</td>\n",
       "      <td>1.572326</td>\n",
       "      <td>1.659070</td>\n",
       "    </tr>\n",
       "    <tr>\n",
       "      <th>4</th>\n",
       "      <td>Armenia</td>\n",
       "      <td>11.133000</td>\n",
       "      <td>6.297</td>\n",
       "      <td>1.754916</td>\n",
       "      <td>0.504952</td>\n",
       "    </tr>\n",
       "    <tr>\n",
       "      <th>...</th>\n",
       "      <td>...</td>\n",
       "      <td>...</td>\n",
       "      <td>...</td>\n",
       "      <td>...</td>\n",
       "      <td>...</td>\n",
       "    </tr>\n",
       "    <tr>\n",
       "      <th>157</th>\n",
       "      <td>Vietnam</td>\n",
       "      <td>23.491800</td>\n",
       "      <td>211.774</td>\n",
       "      <td>3.784400</td>\n",
       "      <td>1.345750</td>\n",
       "    </tr>\n",
       "    <tr>\n",
       "      <th>158</th>\n",
       "      <td>Vanuatu</td>\n",
       "      <td>30.777000</td>\n",
       "      <td>0.145</td>\n",
       "      <td>0.695169</td>\n",
       "      <td>0.000000</td>\n",
       "    </tr>\n",
       "    <tr>\n",
       "      <th>159</th>\n",
       "      <td>South Africa</td>\n",
       "      <td>10.343300</td>\n",
       "      <td>472.001</td>\n",
       "      <td>5.115334</td>\n",
       "      <td>1.693617</td>\n",
       "    </tr>\n",
       "    <tr>\n",
       "      <th>160</th>\n",
       "      <td>Zambia</td>\n",
       "      <td>85.104599</td>\n",
       "      <td>6.930</td>\n",
       "      <td>0.923608</td>\n",
       "      <td>4.339297</td>\n",
       "    </tr>\n",
       "    <tr>\n",
       "      <th>161</th>\n",
       "      <td>Zimbabwe</td>\n",
       "      <td>81.363602</td>\n",
       "      <td>11.341</td>\n",
       "      <td>2.003068</td>\n",
       "      <td>2.085152</td>\n",
       "    </tr>\n",
       "  </tbody>\n",
       "</table>\n",
       "<p>162 rows × 5 columns</p>\n",
       "</div>"
      ],
      "text/plain": [
       "             Country Name  \\\n",
       "0                  Angola   \n",
       "1                 Albania   \n",
       "2    United Arab Emirates   \n",
       "3               Argentina   \n",
       "4                 Armenia   \n",
       "..                    ...   \n",
       "157               Vietnam   \n",
       "158               Vanuatu   \n",
       "159          South Africa   \n",
       "160                Zambia   \n",
       "161              Zimbabwe   \n",
       "\n",
       "     Renewable energy consumption (% of total final energy consumption) - EG.FEC.RNEW.ZS  \\\n",
       "0                                            56.785500                                     \n",
       "1                                            38.266399                                     \n",
       "2                                             0.259200                                     \n",
       "3                                            10.520800                                     \n",
       "4                                            11.133000                                     \n",
       "..                                                 ...                                     \n",
       "157                                          23.491800                                     \n",
       "158                                          30.777000                                     \n",
       "159                                          10.343300                                     \n",
       "160                                          85.104599                                     \n",
       "161                                          81.363602                                     \n",
       "\n",
       "     Annual production-based emissions of carbon dioxide (CO2), measured in million tonnes  \\\n",
       "0                                               37.679                                       \n",
       "1                                                5.403                                       \n",
       "2                                              188.541                                       \n",
       "3                                              185.030                                       \n",
       "4                                                6.297                                       \n",
       "..                                                 ...                                       \n",
       "157                                            211.774                                       \n",
       "158                                              0.145                                       \n",
       "159                                            472.001                                       \n",
       "160                                              6.930                                       \n",
       "161                                             11.341                                       \n",
       "\n",
       "     Adjusted savings: carbon dioxide damage (% of GNI) - NY.ADJ.DCO2.GN.ZS  \\\n",
       "0                                             1.440151                        \n",
       "1                                             1.244828                        \n",
       "2                                             2.035783                        \n",
       "3                                             1.572326                        \n",
       "4                                             1.754916                        \n",
       "..                                                 ...                        \n",
       "157                                           3.784400                        \n",
       "158                                           0.695169                        \n",
       "159                                           5.115334                        \n",
       "160                                           0.923608                        \n",
       "161                                           2.003068                        \n",
       "\n",
       "     Adjusted savings: natural resources depletion (% of GNI) - NY.ADJ.DRES.GN.ZS  \n",
       "0                                            22.406890                             \n",
       "1                                             1.007232                             \n",
       "2                                             5.148113                             \n",
       "3                                             1.659070                             \n",
       "4                                             0.504952                             \n",
       "..                                                 ...                             \n",
       "157                                           1.345750                             \n",
       "158                                           0.000000                             \n",
       "159                                           1.693617                             \n",
       "160                                           4.339297                             \n",
       "161                                           2.085152                             \n",
       "\n",
       "[162 rows x 5 columns]"
      ]
     },
     "execution_count": 4,
     "metadata": {},
     "output_type": "execute_result"
    }
   ],
   "source": [
    "df = pd.read_csv('cleaned_data.csv')\n",
    "df"
   ]
  },
  {
   "cell_type": "code",
   "execution_count": 5,
   "id": "7b7d9a6d",
   "metadata": {},
   "outputs": [],
   "source": [
    "features = df.columns[1:]\n",
    "X = df[features]\n",
    "country_info = df[['Country Name']]"
   ]
  },
  {
   "cell_type": "markdown",
   "id": "8d64ecc2",
   "metadata": {},
   "source": [
    "Data standardization"
   ]
  },
  {
   "cell_type": "code",
   "execution_count": 6,
   "id": "4695ea20",
   "metadata": {},
   "outputs": [],
   "source": [
    "from sklearn.preprocessing import StandardScaler"
   ]
  },
  {
   "cell_type": "code",
   "execution_count": 7,
   "id": "00ff1e40",
   "metadata": {},
   "outputs": [
    {
     "name": "stdout",
     "output_type": "stream",
     "text": [
      "     Renewable energy consumption (% of total final energy consumption) - EG.FEC.RNEW.ZS  \\\n",
      "0                                             0.866919                                     \n",
      "1                                             0.201647                                     \n",
      "2                                            -1.163708                                     \n",
      "3                                            -0.795075                                     \n",
      "4                                            -0.773082                                     \n",
      "..                                                 ...                                     \n",
      "157                                          -0.329110                                     \n",
      "158                                          -0.067399                                     \n",
      "159                                          -0.801451                                     \n",
      "160                                           1.884243                                     \n",
      "161                                           1.749853                                     \n",
      "\n",
      "     Annual production-based emissions of carbon dioxide (CO2), measured in million tonnes  \\\n",
      "0                                            -0.189892                                       \n",
      "1                                            -0.224981                                       \n",
      "2                                            -0.025884                                       \n",
      "3                                            -0.029701                                       \n",
      "4                                            -0.224009                                       \n",
      "..                                                 ...                                       \n",
      "157                                          -0.000626                                       \n",
      "158                                          -0.230697                                       \n",
      "159                                           0.282277                                       \n",
      "160                                          -0.223321                                       \n",
      "161                                          -0.218525                                       \n",
      "\n",
      "     Adjusted savings: carbon dioxide damage (% of GNI) - NY.ADJ.DCO2.GN.ZS  \\\n",
      "0                                            -0.254036                        \n",
      "1                                            -0.384363                        \n",
      "2                                             0.143393                        \n",
      "3                                            -0.165844                        \n",
      "4                                            -0.044013                        \n",
      "..                                                 ...                        \n",
      "157                                           1.310137                        \n",
      "158                                          -0.751116                        \n",
      "159                                           2.198187                        \n",
      "160                                          -0.598693                        \n",
      "161                                           0.121564                        \n",
      "\n",
      "     Adjusted savings: natural resources depletion (% of GNI) - NY.ADJ.DRES.GN.ZS  \n",
      "0                                             3.042254                             \n",
      "1                                            -0.393911                             \n",
      "2                                             0.270994                             \n",
      "3                                            -0.289245                             \n",
      "4                                            -0.474563                             \n",
      "..                                                 ...                             \n",
      "157                                          -0.339555                             \n",
      "158                                          -0.555643                             \n",
      "159                                          -0.283697                             \n",
      "160                                           0.141122                             \n",
      "161                                          -0.220828                             \n",
      "\n",
      "[162 rows x 4 columns]\n"
     ]
    }
   ],
   "source": [
    "scaler = StandardScaler()\n",
    "X_scaled = scaler.fit_transform(X) # .fit_transform() 計算平均值和標準差，然後轉換數據\n",
    "X_scaled_df = pd.DataFrame(X_scaled, columns=features) # 把標準化後的陣列轉回 DataFrame\n",
    "print(X_scaled_df)"
   ]
  },
  {
   "cell_type": "markdown",
   "id": "1d6ba3bd",
   "metadata": {},
   "source": [
    "Using the Elbow Method to determine the optimal number of clusters"
   ]
  },
  {
   "cell_type": "code",
   "execution_count": 8,
   "id": "b842d81f",
   "metadata": {},
   "outputs": [],
   "source": [
    "from sklearn.cluster import KMeans\n",
    "import matplotlib.pyplot as plt"
   ]
  },
  {
   "cell_type": "code",
   "execution_count": 9,
   "id": "a33f7e4a",
   "metadata": {},
   "outputs": [
    {
     "data": {
      "image/png": "[encoded data removed]",
      "text/plain": [
       "<Figure size 640x480 with 1 Axes>"
      ]
     },
     "metadata": {},
     "output_type": "display_data"
    }
   ],
   "source": [
    "ssw = [] \n",
    "\n",
    "for i in range(1, 11):\n",
    "    kmeans = KMeans(n_clusters=i, random_state=42, n_init=10)\n",
    "    kmeans.fit(X_scaled)\n",
    "    ssw.append(kmeans.inertia_) # 計算誤差平方和(SSW)\n",
    "\n",
    "plt.plot(range(1,11), ssw, marker='o', linestyle='--')\n",
    "plt.title('The Elbow Method')\n",
    "plt.xlabel('Number of clusters')\n",
    "plt.ylabel('SSW')\n",
    "plt.xticks(range(1,11))\n",
    "plt.show()\n",
    "# plt.savefig('optimal_number_of_clusters.png')\n"
   ]
  },
  {
   "cell_type": "markdown",
   "id": "ba6c3e22",
   "metadata": {},
   "source": [
    "K-means clustering"
   ]
  },
  {
   "cell_type": "code",
   "execution_count": 10,
   "id": "e89458da",
   "metadata": {},
   "outputs": [
    {
     "name": "stdout",
     "output_type": "stream",
     "text": [
      "According to the Elbow Method, the optimal k value is 5.\n",
      "Successfully divided the 162 countries into 5 clusters.\n",
      "\n"
     ]
    }
   ],
   "source": [
    "k = 5\n",
    "print('According to the Elbow Method, the optimal k value is 5.')\n",
    "\n",
    "# random_state: to ensure that we start from the same random point each time\n",
    "# n_init: 從頭到尾跑10次，每一次都用一組不同的隨機初始中心點\n",
    "kmeans_final = KMeans(n_clusters=k, random_state=42, n_init=10) \n",
    "kmeans_final.fit(X_scaled) # .fit() initialize the model\n",
    "\n",
    "# get the cluster labels from each country\n",
    "cluster_labels = kmeans_final.labels_\n",
    "print(f\"Successfully divided the {df.shape[0]} countries into {k} clusters.\\n\")"
   ]
  },
  {
   "cell_type": "markdown",
   "id": "3a435d22",
   "metadata": {},
   "source": [
    "Save the clustering result to the original data"
   ]
  },
  {
   "cell_type": "code",
   "execution_count": 71,
   "id": "86775e4e",
   "metadata": {},
   "outputs": [
    {
     "name": "stdout",
     "output_type": "stream",
     "text": [
      "         Renewable energy consumption (% of total final energy consumption) - EG.FEC.RNEW.ZS  \\\n",
      "Cluster                                                                                        \n",
      "0                                                19.544407                                     \n",
      "1                                                11.615500                                     \n",
      "2                                                10.636486                                     \n",
      "3                                                72.084684                                     \n",
      "4                                                21.391225                                     \n",
      "\n",
      "         Annual production-based emissions of carbon dioxide (CO2), measured in million tonnes  \\\n",
      "Cluster                                                                                          \n",
      "0                                               112.068977                                       \n",
      "1                                              7690.725500                                       \n",
      "2                                               387.928190                                       \n",
      "3                                                21.693614                                       \n",
      "4                                                21.031625                                       \n",
      "\n",
      "         Adjusted savings: carbon dioxide damage (% of GNI) - NY.ADJ.DCO2.GN.ZS  \\\n",
      "Cluster                                                                           \n",
      "0                                                 1.406557                        \n",
      "1                                                 1.960413                        \n",
      "2                                                 4.895676                        \n",
      "3                                                 1.120020                        \n",
      "4                                                 2.075117                        \n",
      "\n",
      "         Adjusted savings: natural resources depletion (% of GNI) - NY.ADJ.DRES.GN.ZS  \n",
      "Cluster                                                                                \n",
      "0                                                 1.044794                             \n",
      "1                                                 0.615420                             \n",
      "2                                                 5.575632                             \n",
      "3                                                 3.395300                             \n",
      "4                                                25.247340                             \n"
     ]
    }
   ],
   "source": [
    "df_clustered = df.copy()\n",
    "df_clustered['Cluster'] = cluster_labels\n",
    "\n",
    "# 計算每個群組的特徵平均值\n",
    "cluster_summary = df_clustered.groupby('Cluster')[features].mean()\n",
    "print(cluster_summary)"
   ]
  },
  {
   "cell_type": "code",
   "execution_count": 72,
   "id": "45e645ec",
   "metadata": {},
   "outputs": [],
   "source": [
    "filename = 'clustered_data.csv'\n",
    "df_clustered.to_csv(filename, index=False)"
   ]
  }
 ],
 "metadata": {
  "kernelspec": {
   "display_name": "Python 3",
   "language": "python",
   "name": "python3"
  },
  "language_info": {
   "codemirror_mode": {
    "name": "ipython",
    "version": 3
   },
   "file_extension": ".py",
   "mimetype": "text/x-python",
   "name": "python",
   "nbconvert_exporter": "python",
   "pygments_lexer": "ipython3",
   "version": "3.13.7"
  }
 },
 "nbformat": 4,
 "nbformat_minor": 5
}
